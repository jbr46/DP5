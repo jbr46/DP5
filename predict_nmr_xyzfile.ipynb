{
 "cells": [
  {
   "cell_type": "code",
   "execution_count": 1,
   "metadata": {},
   "outputs": [
    {
     "name": "stderr",
     "output_type": "stream",
     "text": [
      "Using TensorFlow backend.\n"
     ]
    }
   ],
   "source": [
    "import pandas as pd\n",
    "import numpy as np\n",
    "from rdkit import Chem\n",
    "from nfp.preprocessing import MolAPreprocessor, GraphSequence\n",
    "\n",
    "import keras\n",
    "import keras.backend as K\n",
    "\n",
    "from keras.callbacks import ModelCheckpoint, CSVLogger, LearningRateScheduler\n",
    "\n",
    "from keras.layers import (Input, Embedding, Dense, BatchNormalization,\n",
    "                                 Concatenate, Multiply, Add)\n",
    "\n",
    "from keras.models import Model, load_model\n",
    "\n",
    "from nfp.layers import (MessageLayer, GRUStep, Squeeze, EdgeNetwork,\n",
    "                               ReduceBondToPro, ReduceBondToAtom, GatherAtomToBond, ReduceAtomToPro)\n",
    "from nfp.models import GraphModel\n",
    "from cascade.apply import predict_NMR_C,predict_NMR_H"
   ]
  },
  {
   "cell_type": "code",
   "execution_count": 2,
   "metadata": {},
   "outputs": [],
   "source": [
    "import os"
   ]
  },
  {
   "cell_type": "code",
   "execution_count": 3,
   "metadata": {},
   "outputs": [
    {
     "name": "stdout",
     "output_type": "stream",
     "text": [
      "WARNING:tensorflow:From /opt/anaconda3/envs/webapp/lib/python3.5/site-packages/tensorflow/python/framework/op_def_library.py:263: colocate_with (from tensorflow.python.framework.ops) is deprecated and will be removed in a future version.\n",
      "Instructions for updating:\n",
      "Colocations handled automatically by placer.\n",
      "WARNING:tensorflow:From /opt/anaconda3/envs/webapp/lib/python3.5/site-packages/tensorflow/python/ops/math_ops.py:3066: to_int32 (from tensorflow.python.ops.math_ops) is deprecated and will be removed in a future version.\n",
      "Instructions for updating:\n",
      "Use tf.cast instead.\n"
     ]
    },
    {
     "name": "stderr",
     "output_type": "stream",
     "text": [
      "/opt/anaconda3/envs/webapp/lib/python3.5/site-packages/tensorflow/python/ops/gradients_impl.py:110: UserWarning: Converting sparse IndexedSlices to a dense Tensor of unknown shape. This may consume a large amount of memory.\n",
      "  \"Converting sparse IndexedSlices to a dense Tensor of unknown shape. \"\n"
     ]
    }
   ],
   "source": [
    "modelpath_C = os.path.join('cascade', 'trained_model', 'best_model.hdf5')\n",
    "modelpath_H = os.path.join('cascade', 'trained_model', 'best_model_H_DFTNN.hdf5')\n",
    "\n",
    "batch_size = 32\n",
    "atom_means = pd.Series(np.array([0,0,97.74193,0,0,0,0,0,0,0]).astype(np.float64), name='shift')\n",
    "NMR_model_C = load_model(modelpath_C, custom_objects={'GraphModel': GraphModel,\n",
    "                                             'ReduceAtomToPro': ReduceAtomToPro,\n",
    "                                             'Squeeze': Squeeze,\n",
    "                                             'GatherAtomToBond': GatherAtomToBond,\n",
    "                                             'ReduceBondToAtom': ReduceBondToAtom})\n",
    "NMR_model_H = load_model(modelpath_H, custom_objects={'GraphModel': GraphModel,\n",
    "                                             'ReduceAtomToPro': ReduceAtomToPro,\n",
    "                                             'Squeeze': Squeeze,\n",
    "                                             'GatherAtomToBond': GatherAtomToBond,\n",
    "                                             'ReduceBondToAtom': ReduceBondToAtom})\n",
    "# NMR_model_C.summary()\n",
    "# NMR_model_H.summary()"
   ]
  },
  {
   "cell_type": "code",
   "execution_count": 5,
   "metadata": {},
   "outputs": [
    {
     "data": {
      "text/plain": [
       "Index(['smiles'], dtype='object')"
      ]
     },
     "execution_count": 5,
     "metadata": {},
     "output_type": "execute_result"
    }
   ],
   "source": [
    "#Loading DATA/\n",
    "data = pd.read_csv('test.csv')\n",
    "data.columns"
   ]
  },
  {
   "cell_type": "code",
   "execution_count": 10,
   "metadata": {},
   "outputs": [
    {
     "name": "stderr",
     "output_type": "stream",
     "text": [
      "1it [00:00, 970.01it/s]"
     ]
    },
    {
     "name": "stdout",
     "output_type": "stream",
     "text": [
      "   ------------------------------------------------------------------------------------------------------------------\n",
      "   |    FULL_MONTE search                                                                                           |\n",
      "   | o  EWIN: 10.0 kcal/mol                                                                                         |\n",
      "   | o  MCNV: 2 ROTATABLE BONDS                                                                                     |\n",
      "   | o  STEP: 200 (ESTIMATED CONFORMER SPACE: 8)                                                                    |\n",
      "   ------------------------------------------------------------------------------------------------------------------\n",
      "\n",
      "o  FILTERING CONFORMERS BY ENERGY CUTOFF: 10.0 kcal/mol\n",
      "   KEEPING 200 CONFORMERS\n",
      "o  FILTERING CONFORMERS BY RMS: 0.5\n",
      "   KEEPING 1 CONFORMERS\n"
     ]
    },
    {
     "name": "stderr",
     "output_type": "stream",
     "text": [
      "\n"
     ]
    },
    {
     "name": "stdout",
     "output_type": "stream",
     "text": [
      "   ------------------------------------------------------------------------------------------------------------------\n",
      "   |    FULL_MONTE search                                                                                           |\n",
      "   | o  EWIN: 10.0 kcal/mol                                                                                         |\n",
      "   | o  MCNV: 3 ROTATABLE BONDS                                                                                     |\n",
      "   | o  STEP: 200 (ESTIMATED CONFORMER SPACE: 27)                                                                   |\n",
      "   ------------------------------------------------------------------------------------------------------------------\n",
      "\n"
     ]
    },
    {
     "name": "stderr",
     "output_type": "stream",
     "text": [
      "2it [00:00, 982.04it/s]"
     ]
    },
    {
     "name": "stdout",
     "output_type": "stream",
     "text": [
      "o  FILTERING CONFORMERS BY ENERGY CUTOFF: 10.0 kcal/mol\n",
      "   KEEPING 200 CONFORMERS\n",
      "o  FILTERING CONFORMERS BY RMS: 0.5\n",
      "   KEEPING 2 CONFORMERS\n",
      "   ------------------------------------------------------------------------------------------------------------------\n",
      "   |    FULL_MONTE search                                                                                           |\n",
      "   | o  EWIN: 10.0 kcal/mol                                                                                         |\n",
      "   | o  MCNV: 4 ROTATABLE BONDS                                                                                     |\n",
      "   | o  STEP: 200 (ESTIMATED CONFORMER SPACE: 64)                                                                   |\n",
      "   ------------------------------------------------------------------------------------------------------------------\n",
      "\n"
     ]
    },
    {
     "name": "stderr",
     "output_type": "stream",
     "text": [
      "\n",
      "4it [00:00, 968.44it/s]"
     ]
    },
    {
     "name": "stdout",
     "output_type": "stream",
     "text": [
      "o  FILTERING CONFORMERS BY ENERGY CUTOFF: 10.0 kcal/mol\n",
      "   KEEPING 200 CONFORMERS\n",
      "o  FILTERING CONFORMERS BY RMS: 0.5\n",
      "   KEEPING 4 CONFORMERS\n"
     ]
    },
    {
     "name": "stderr",
     "output_type": "stream",
     "text": [
      "\n"
     ]
    }
   ],
   "source": [
    "# C predicting NMR\n",
    "pred_data_C = pd.DataFrame()\n",
    "for i, smiles in enumerate(data.smiles.unique()):\n",
    "    try:\n",
    "        mols, weightedPrediction, spreadShift = predict_NMR_C(smiles, NMR_model_C)\n",
    "        weightedPrediction['SMILES'] = smiles\n",
    "        pred_data_C = pd.concat([pred_data_C,weightedPrediction])\n",
    "    except:\n",
    "        pass"
   ]
  },
  {
   "cell_type": "code",
   "execution_count": 11,
   "metadata": {},
   "outputs": [
    {
     "name": "stderr",
     "output_type": "stream",
     "text": [
      "1it [00:00, 956.08it/s]"
     ]
    },
    {
     "name": "stdout",
     "output_type": "stream",
     "text": [
      "   ------------------------------------------------------------------------------------------------------------------\n",
      "   |    FULL_MONTE search                                                                                           |\n",
      "   | o  EWIN: 10.0 kcal/mol                                                                                         |\n",
      "   | o  MCNV: 2 ROTATABLE BONDS                                                                                     |\n",
      "   | o  STEP: 200 (ESTIMATED CONFORMER SPACE: 8)                                                                    |\n",
      "   ------------------------------------------------------------------------------------------------------------------\n",
      "\n",
      "o  FILTERING CONFORMERS BY ENERGY CUTOFF: 10.0 kcal/mol\n",
      "   KEEPING 200 CONFORMERS\n",
      "o  FILTERING CONFORMERS BY RMS: 0.5\n",
      "   KEEPING 1 CONFORMERS\n"
     ]
    },
    {
     "name": "stderr",
     "output_type": "stream",
     "text": [
      "\n"
     ]
    },
    {
     "name": "stdout",
     "output_type": "stream",
     "text": [
      "   ------------------------------------------------------------------------------------------------------------------\n",
      "   |    FULL_MONTE search                                                                                           |\n",
      "   | o  EWIN: 10.0 kcal/mol                                                                                         |\n",
      "   | o  MCNV: 3 ROTATABLE BONDS                                                                                     |\n",
      "   | o  STEP: 200 (ESTIMATED CONFORMER SPACE: 27)                                                                   |\n",
      "   ------------------------------------------------------------------------------------------------------------------\n",
      "\n"
     ]
    },
    {
     "name": "stderr",
     "output_type": "stream",
     "text": [
      "2it [00:00, 1006.55it/s]"
     ]
    },
    {
     "name": "stdout",
     "output_type": "stream",
     "text": [
      "o  FILTERING CONFORMERS BY ENERGY CUTOFF: 10.0 kcal/mol\n",
      "   KEEPING 200 CONFORMERS\n",
      "o  FILTERING CONFORMERS BY RMS: 0.5\n",
      "   KEEPING 2 CONFORMERS\n",
      "   ------------------------------------------------------------------------------------------------------------------\n",
      "   |    FULL_MONTE search                                                                                           |\n",
      "   | o  EWIN: 10.0 kcal/mol                                                                                         |\n",
      "   | o  MCNV: 4 ROTATABLE BONDS                                                                                     |\n",
      "   | o  STEP: 200 (ESTIMATED CONFORMER SPACE: 64)                                                                   |\n",
      "   ------------------------------------------------------------------------------------------------------------------\n",
      "\n"
     ]
    },
    {
     "name": "stderr",
     "output_type": "stream",
     "text": [
      "\n",
      "4it [00:00, 904.38it/s]"
     ]
    },
    {
     "name": "stdout",
     "output_type": "stream",
     "text": [
      "o  FILTERING CONFORMERS BY ENERGY CUTOFF: 10.0 kcal/mol\n",
      "   KEEPING 200 CONFORMERS\n",
      "o  FILTERING CONFORMERS BY RMS: 0.5\n",
      "   KEEPING 4 CONFORMERS\n"
     ]
    },
    {
     "name": "stderr",
     "output_type": "stream",
     "text": [
      "\n"
     ]
    }
   ],
   "source": [
    "# H predicitions\n",
    "pred_data_H = pd.DataFrame()\n",
    "for i, smiles in enumerate(data.smiles.unique()):\n",
    "    try:\n",
    "        mols, weightedPrediction, spreadShift = predict_NMR_H(smiles, NMR_model_H)\n",
    "        weightedPrediction['SMILES'] = smiles\n",
    "        pred_data_H = pd.concat([pred_data_H, weightedPrediction])\n",
    "    except:\n",
    "        pass"
   ]
  },
  {
   "cell_type": "code",
   "execution_count": 14,
   "metadata": {},
   "outputs": [
    {
     "data": {
      "text/html": [
       "<div>\n",
       "<style scoped>\n",
       "    .dataframe tbody tr th:only-of-type {\n",
       "        vertical-align: middle;\n",
       "    }\n",
       "\n",
       "    .dataframe tbody tr th {\n",
       "        vertical-align: top;\n",
       "    }\n",
       "\n",
       "    .dataframe thead th {\n",
       "        text-align: right;\n",
       "    }\n",
       "</style>\n",
       "<table border=\"1\" class=\"dataframe\">\n",
       "  <thead>\n",
       "    <tr style=\"text-align: right;\">\n",
       "      <th></th>\n",
       "      <th>mol_id</th>\n",
       "      <th>atom_index</th>\n",
       "      <th>Shift</th>\n",
       "      <th>SMILES</th>\n",
       "    </tr>\n",
       "  </thead>\n",
       "  <tbody>\n",
       "    <tr>\n",
       "      <th>0</th>\n",
       "      <td>0</td>\n",
       "      <td>1</td>\n",
       "      <td>16.26</td>\n",
       "      <td>CCC</td>\n",
       "    </tr>\n",
       "    <tr>\n",
       "      <th>1</th>\n",
       "      <td>0</td>\n",
       "      <td>2</td>\n",
       "      <td>17.05</td>\n",
       "      <td>CCC</td>\n",
       "    </tr>\n",
       "    <tr>\n",
       "      <th>2</th>\n",
       "      <td>0</td>\n",
       "      <td>3</td>\n",
       "      <td>16.26</td>\n",
       "      <td>CCC</td>\n",
       "    </tr>\n",
       "    <tr>\n",
       "      <th>0</th>\n",
       "      <td>0</td>\n",
       "      <td>1</td>\n",
       "      <td>13.56</td>\n",
       "      <td>CCCC</td>\n",
       "    </tr>\n",
       "    <tr>\n",
       "      <th>1</th>\n",
       "      <td>0</td>\n",
       "      <td>2</td>\n",
       "      <td>25.00</td>\n",
       "      <td>CCCC</td>\n",
       "    </tr>\n",
       "    <tr>\n",
       "      <th>2</th>\n",
       "      <td>0</td>\n",
       "      <td>3</td>\n",
       "      <td>25.00</td>\n",
       "      <td>CCCC</td>\n",
       "    </tr>\n",
       "    <tr>\n",
       "      <th>3</th>\n",
       "      <td>0</td>\n",
       "      <td>4</td>\n",
       "      <td>13.56</td>\n",
       "      <td>CCCC</td>\n",
       "    </tr>\n",
       "    <tr>\n",
       "      <th>0</th>\n",
       "      <td>0</td>\n",
       "      <td>1</td>\n",
       "      <td>13.37</td>\n",
       "      <td>CCCCC</td>\n",
       "    </tr>\n",
       "    <tr>\n",
       "      <th>1</th>\n",
       "      <td>0</td>\n",
       "      <td>2</td>\n",
       "      <td>23.32</td>\n",
       "      <td>CCCCC</td>\n",
       "    </tr>\n",
       "    <tr>\n",
       "      <th>2</th>\n",
       "      <td>0</td>\n",
       "      <td>3</td>\n",
       "      <td>34.18</td>\n",
       "      <td>CCCCC</td>\n",
       "    </tr>\n",
       "    <tr>\n",
       "      <th>3</th>\n",
       "      <td>0</td>\n",
       "      <td>4</td>\n",
       "      <td>23.26</td>\n",
       "      <td>CCCCC</td>\n",
       "    </tr>\n",
       "    <tr>\n",
       "      <th>4</th>\n",
       "      <td>0</td>\n",
       "      <td>5</td>\n",
       "      <td>13.39</td>\n",
       "      <td>CCCCC</td>\n",
       "    </tr>\n",
       "  </tbody>\n",
       "</table>\n",
       "</div>"
      ],
      "text/plain": [
       "   mol_id  atom_index  Shift SMILES\n",
       "0       0           1  16.26    CCC\n",
       "1       0           2  17.05    CCC\n",
       "2       0           3  16.26    CCC\n",
       "0       0           1  13.56   CCCC\n",
       "1       0           2  25.00   CCCC\n",
       "2       0           3  25.00   CCCC\n",
       "3       0           4  13.56   CCCC\n",
       "0       0           1  13.37  CCCCC\n",
       "1       0           2  23.32  CCCCC\n",
       "2       0           3  34.18  CCCCC\n",
       "3       0           4  23.26  CCCCC\n",
       "4       0           5  13.39  CCCCC"
      ]
     },
     "execution_count": 14,
     "metadata": {},
     "output_type": "execute_result"
    }
   ],
   "source": [
    "pred_data_C"
   ]
  },
  {
   "cell_type": "code",
   "execution_count": 15,
   "metadata": {},
   "outputs": [
    {
     "data": {
      "text/html": [
       "<div>\n",
       "<style scoped>\n",
       "    .dataframe tbody tr th:only-of-type {\n",
       "        vertical-align: middle;\n",
       "    }\n",
       "\n",
       "    .dataframe tbody tr th {\n",
       "        vertical-align: top;\n",
       "    }\n",
       "\n",
       "    .dataframe thead th {\n",
       "        text-align: right;\n",
       "    }\n",
       "</style>\n",
       "<table border=\"1\" class=\"dataframe\">\n",
       "  <thead>\n",
       "    <tr style=\"text-align: right;\">\n",
       "      <th></th>\n",
       "      <th>mol_id</th>\n",
       "      <th>atom_index</th>\n",
       "      <th>Shift</th>\n",
       "      <th>SMILES</th>\n",
       "    </tr>\n",
       "  </thead>\n",
       "  <tbody>\n",
       "    <tr>\n",
       "      <th>0</th>\n",
       "      <td>0</td>\n",
       "      <td>4</td>\n",
       "      <td>1.29</td>\n",
       "      <td>CCC</td>\n",
       "    </tr>\n",
       "    <tr>\n",
       "      <th>1</th>\n",
       "      <td>0</td>\n",
       "      <td>5</td>\n",
       "      <td>1.02</td>\n",
       "      <td>CCC</td>\n",
       "    </tr>\n",
       "    <tr>\n",
       "      <th>2</th>\n",
       "      <td>0</td>\n",
       "      <td>6</td>\n",
       "      <td>1.02</td>\n",
       "      <td>CCC</td>\n",
       "    </tr>\n",
       "    <tr>\n",
       "      <th>3</th>\n",
       "      <td>0</td>\n",
       "      <td>7</td>\n",
       "      <td>1.46</td>\n",
       "      <td>CCC</td>\n",
       "    </tr>\n",
       "    <tr>\n",
       "      <th>4</th>\n",
       "      <td>0</td>\n",
       "      <td>8</td>\n",
       "      <td>1.46</td>\n",
       "      <td>CCC</td>\n",
       "    </tr>\n",
       "    <tr>\n",
       "      <th>5</th>\n",
       "      <td>0</td>\n",
       "      <td>9</td>\n",
       "      <td>1.29</td>\n",
       "      <td>CCC</td>\n",
       "    </tr>\n",
       "    <tr>\n",
       "      <th>6</th>\n",
       "      <td>0</td>\n",
       "      <td>10</td>\n",
       "      <td>1.02</td>\n",
       "      <td>CCC</td>\n",
       "    </tr>\n",
       "    <tr>\n",
       "      <th>7</th>\n",
       "      <td>0</td>\n",
       "      <td>11</td>\n",
       "      <td>1.02</td>\n",
       "      <td>CCC</td>\n",
       "    </tr>\n",
       "    <tr>\n",
       "      <th>0</th>\n",
       "      <td>0</td>\n",
       "      <td>5</td>\n",
       "      <td>1.02</td>\n",
       "      <td>CCCC</td>\n",
       "    </tr>\n",
       "    <tr>\n",
       "      <th>1</th>\n",
       "      <td>0</td>\n",
       "      <td>6</td>\n",
       "      <td>1.26</td>\n",
       "      <td>CCCC</td>\n",
       "    </tr>\n",
       "    <tr>\n",
       "      <th>2</th>\n",
       "      <td>0</td>\n",
       "      <td>7</td>\n",
       "      <td>0.94</td>\n",
       "      <td>CCCC</td>\n",
       "    </tr>\n",
       "    <tr>\n",
       "      <th>3</th>\n",
       "      <td>0</td>\n",
       "      <td>8</td>\n",
       "      <td>1.43</td>\n",
       "      <td>CCCC</td>\n",
       "    </tr>\n",
       "    <tr>\n",
       "      <th>4</th>\n",
       "      <td>0</td>\n",
       "      <td>9</td>\n",
       "      <td>1.37</td>\n",
       "      <td>CCCC</td>\n",
       "    </tr>\n",
       "    <tr>\n",
       "      <th>5</th>\n",
       "      <td>0</td>\n",
       "      <td>10</td>\n",
       "      <td>1.37</td>\n",
       "      <td>CCCC</td>\n",
       "    </tr>\n",
       "    <tr>\n",
       "      <th>6</th>\n",
       "      <td>0</td>\n",
       "      <td>11</td>\n",
       "      <td>1.43</td>\n",
       "      <td>CCCC</td>\n",
       "    </tr>\n",
       "    <tr>\n",
       "      <th>7</th>\n",
       "      <td>0</td>\n",
       "      <td>12</td>\n",
       "      <td>1.02</td>\n",
       "      <td>CCCC</td>\n",
       "    </tr>\n",
       "    <tr>\n",
       "      <th>8</th>\n",
       "      <td>0</td>\n",
       "      <td>13</td>\n",
       "      <td>0.94</td>\n",
       "      <td>CCCC</td>\n",
       "    </tr>\n",
       "    <tr>\n",
       "      <th>9</th>\n",
       "      <td>0</td>\n",
       "      <td>14</td>\n",
       "      <td>1.26</td>\n",
       "      <td>CCCC</td>\n",
       "    </tr>\n",
       "    <tr>\n",
       "      <th>0</th>\n",
       "      <td>0</td>\n",
       "      <td>6</td>\n",
       "      <td>1.17</td>\n",
       "      <td>CCCCC</td>\n",
       "    </tr>\n",
       "    <tr>\n",
       "      <th>1</th>\n",
       "      <td>0</td>\n",
       "      <td>7</td>\n",
       "      <td>1.00</td>\n",
       "      <td>CCCCC</td>\n",
       "    </tr>\n",
       "    <tr>\n",
       "      <th>2</th>\n",
       "      <td>0</td>\n",
       "      <td>8</td>\n",
       "      <td>1.00</td>\n",
       "      <td>CCCCC</td>\n",
       "    </tr>\n",
       "    <tr>\n",
       "      <th>3</th>\n",
       "      <td>0</td>\n",
       "      <td>9</td>\n",
       "      <td>1.45</td>\n",
       "      <td>CCCCC</td>\n",
       "    </tr>\n",
       "    <tr>\n",
       "      <th>4</th>\n",
       "      <td>0</td>\n",
       "      <td>10</td>\n",
       "      <td>1.37</td>\n",
       "      <td>CCCCC</td>\n",
       "    </tr>\n",
       "    <tr>\n",
       "      <th>5</th>\n",
       "      <td>0</td>\n",
       "      <td>11</td>\n",
       "      <td>1.33</td>\n",
       "      <td>CCCCC</td>\n",
       "    </tr>\n",
       "    <tr>\n",
       "      <th>6</th>\n",
       "      <td>0</td>\n",
       "      <td>12</td>\n",
       "      <td>1.29</td>\n",
       "      <td>CCCCC</td>\n",
       "    </tr>\n",
       "    <tr>\n",
       "      <th>7</th>\n",
       "      <td>0</td>\n",
       "      <td>13</td>\n",
       "      <td>1.40</td>\n",
       "      <td>CCCCC</td>\n",
       "    </tr>\n",
       "    <tr>\n",
       "      <th>8</th>\n",
       "      <td>0</td>\n",
       "      <td>14</td>\n",
       "      <td>1.44</td>\n",
       "      <td>CCCCC</td>\n",
       "    </tr>\n",
       "    <tr>\n",
       "      <th>9</th>\n",
       "      <td>0</td>\n",
       "      <td>15</td>\n",
       "      <td>1.01</td>\n",
       "      <td>CCCCC</td>\n",
       "    </tr>\n",
       "    <tr>\n",
       "      <th>10</th>\n",
       "      <td>0</td>\n",
       "      <td>16</td>\n",
       "      <td>0.93</td>\n",
       "      <td>CCCCC</td>\n",
       "    </tr>\n",
       "    <tr>\n",
       "      <th>11</th>\n",
       "      <td>0</td>\n",
       "      <td>17</td>\n",
       "      <td>1.23</td>\n",
       "      <td>CCCCC</td>\n",
       "    </tr>\n",
       "  </tbody>\n",
       "</table>\n",
       "</div>"
      ],
      "text/plain": [
       "    mol_id  atom_index  Shift SMILES\n",
       "0        0           4   1.29    CCC\n",
       "1        0           5   1.02    CCC\n",
       "2        0           6   1.02    CCC\n",
       "3        0           7   1.46    CCC\n",
       "4        0           8   1.46    CCC\n",
       "5        0           9   1.29    CCC\n",
       "6        0          10   1.02    CCC\n",
       "7        0          11   1.02    CCC\n",
       "0        0           5   1.02   CCCC\n",
       "1        0           6   1.26   CCCC\n",
       "2        0           7   0.94   CCCC\n",
       "3        0           8   1.43   CCCC\n",
       "4        0           9   1.37   CCCC\n",
       "5        0          10   1.37   CCCC\n",
       "6        0          11   1.43   CCCC\n",
       "7        0          12   1.02   CCCC\n",
       "8        0          13   0.94   CCCC\n",
       "9        0          14   1.26   CCCC\n",
       "0        0           6   1.17  CCCCC\n",
       "1        0           7   1.00  CCCCC\n",
       "2        0           8   1.00  CCCCC\n",
       "3        0           9   1.45  CCCCC\n",
       "4        0          10   1.37  CCCCC\n",
       "5        0          11   1.33  CCCCC\n",
       "6        0          12   1.29  CCCCC\n",
       "7        0          13   1.40  CCCCC\n",
       "8        0          14   1.44  CCCCC\n",
       "9        0          15   1.01  CCCCC\n",
       "10       0          16   0.93  CCCCC\n",
       "11       0          17   1.23  CCCCC"
      ]
     },
     "execution_count": 15,
     "metadata": {},
     "output_type": "execute_result"
    }
   ],
   "source": [
    "pred_data_H"
   ]
  },
  {
   "cell_type": "code",
   "execution_count": null,
   "metadata": {},
   "outputs": [],
   "source": []
  }
 ],
 "metadata": {
  "kernelspec": {
   "display_name": "webapp)",
   "language": "python",
   "name": "webapp"
  },
  "language_info": {
   "codemirror_mode": {
    "name": "ipython",
    "version": 3
   },
   "file_extension": ".py",
   "mimetype": "text/x-python",
   "name": "python",
   "nbconvert_exporter": "python",
   "pygments_lexer": "ipython3",
   "version": "3.5.6"
  }
 },
 "nbformat": 4,
 "nbformat_minor": 5
}
